{
  "nbformat": 4,
  "nbformat_minor": 0,
  "metadata": {
    "colab": {
      "provenance": [],
      "gpuType": "T4"
    },
    "kernelspec": {
      "name": "python3",
      "display_name": "Python 3"
    },
    "language_info": {
      "name": "python"
    },
    "accelerator": "GPU"
  },
  "cells": [
    {
      "cell_type": "code",
      "execution_count": null,
      "metadata": {
        "colab": {
          "base_uri": "https://localhost:8080/"
        },
        "id": "EdDCY1Fobo66",
        "outputId": "b7ca8bf0-97fd-4294-b2ad-b158936b91f6"
      },
      "outputs": [
        {
          "output_type": "stream",
          "name": "stdout",
          "text": [
            " RMSE for call_iv_23500: 0.000009\n",
            " RMSE for call_iv_23600: 0.000010\n",
            " RMSE for call_iv_23700: 0.000006\n",
            " RMSE for call_iv_23800: 0.000005\n",
            " RMSE for call_iv_23900: 0.000002\n",
            " RMSE for call_iv_24000: 0.000001\n",
            " RMSE for call_iv_24100: 0.000001\n",
            " RMSE for call_iv_24200: 0.000000\n",
            " RMSE for call_iv_24300: 0.000000\n",
            " RMSE for call_iv_24400: 0.000000\n",
            " RMSE for call_iv_24500: 0.000000\n",
            " RMSE for call_iv_24600: 0.000000\n",
            " RMSE for call_iv_24700: 0.000001\n",
            " RMSE for call_iv_24800: 0.000001\n",
            " RMSE for call_iv_24900: 0.000002\n",
            " RMSE for call_iv_25000: 0.000001\n",
            " RMSE for call_iv_25100: 0.000002\n",
            " RMSE for call_iv_25200: 0.000003\n",
            " RMSE for call_iv_25300: 0.000006\n",
            " RMSE for call_iv_25400: 0.000003\n",
            " RMSE for call_iv_25500: 0.000004\n",
            " RMSE for call_iv_25600: 0.000004\n",
            " RMSE for call_iv_25700: 0.000004\n",
            " RMSE for call_iv_25800: 0.000004\n",
            " RMSE for call_iv_25900: 0.000007\n",
            " RMSE for call_iv_26000: 0.000004\n",
            " RMSE for put_iv_22500: 0.000005\n",
            " RMSE for put_iv_22600: 0.000004\n",
            " RMSE for put_iv_22700: 0.000004\n",
            " RMSE for put_iv_22800: 0.000004\n",
            " RMSE for put_iv_22900: 0.000003\n",
            " RMSE for put_iv_23000: 0.000003\n",
            " RMSE for put_iv_23100: 0.000003\n",
            " RMSE for put_iv_23200: 0.000003\n",
            " RMSE for put_iv_23300: 0.000003\n",
            " RMSE for put_iv_23400: 0.000003\n",
            " RMSE for put_iv_23500: 0.000002\n",
            " RMSE for put_iv_23600: 0.000002\n",
            " RMSE for put_iv_23700: 0.000003\n",
            " RMSE for put_iv_23800: 0.000002\n",
            " RMSE for put_iv_23900: 0.000001\n",
            " RMSE for put_iv_24000: 0.000001\n",
            " RMSE for put_iv_24100: 0.000001\n",
            " RMSE for put_iv_24200: 0.000000\n",
            " RMSE for put_iv_24300: 0.000000\n",
            " RMSE for put_iv_24400: 0.000000\n",
            " RMSE for put_iv_24500: 0.000000\n",
            " RMSE for put_iv_24600: 0.000001\n",
            " RMSE for put_iv_24700: 0.000002\n",
            " RMSE for put_iv_24800: 0.000004\n",
            " RMSE for put_iv_24900: 0.000010\n",
            " RMSE for put_iv_25000: 0.000005\n"
          ]
        },
        {
          "output_type": "stream",
          "name": "stderr",
          "text": [
            "/tmp/ipython-input-451387676.py:65: FutureWarning: Downcasting behavior in `replace` is deprecated and will be removed in a future version. To retain the old behavior, explicitly call `result.infer_objects(copy=False)`. To opt-in to the future behavior, set `pd.set_option('future.no_silent_downcasting', True)`\n",
            "  train_df.replace([np.inf, -np.inf], np.nan, inplace=True)\n"
          ]
        },
        {
          "output_type": "stream",
          "name": "stdout",
          "text": [
            " RMSE for call_iv_26100: 0.000002\n"
          ]
        },
        {
          "output_type": "stream",
          "name": "stderr",
          "text": [
            "/tmp/ipython-input-451387676.py:65: FutureWarning: Downcasting behavior in `replace` is deprecated and will be removed in a future version. To retain the old behavior, explicitly call `result.infer_objects(copy=False)`. To opt-in to the future behavior, set `pd.set_option('future.no_silent_downcasting', True)`\n",
            "  train_df.replace([np.inf, -np.inf], np.nan, inplace=True)\n"
          ]
        },
        {
          "output_type": "stream",
          "name": "stdout",
          "text": [
            " RMSE for call_iv_26200: 0.000013\n"
          ]
        },
        {
          "output_type": "stream",
          "name": "stderr",
          "text": [
            "/tmp/ipython-input-451387676.py:65: FutureWarning: Downcasting behavior in `replace` is deprecated and will be removed in a future version. To retain the old behavior, explicitly call `result.infer_objects(copy=False)`. To opt-in to the future behavior, set `pd.set_option('future.no_silent_downcasting', True)`\n",
            "  train_df.replace([np.inf, -np.inf], np.nan, inplace=True)\n"
          ]
        },
        {
          "output_type": "stream",
          "name": "stdout",
          "text": [
            " RMSE for call_iv_26300: 0.000009\n"
          ]
        },
        {
          "output_type": "stream",
          "name": "stderr",
          "text": [
            "/tmp/ipython-input-451387676.py:65: FutureWarning: Downcasting behavior in `replace` is deprecated and will be removed in a future version. To retain the old behavior, explicitly call `result.infer_objects(copy=False)`. To opt-in to the future behavior, set `pd.set_option('future.no_silent_downcasting', True)`\n",
            "  train_df.replace([np.inf, -np.inf], np.nan, inplace=True)\n"
          ]
        },
        {
          "output_type": "stream",
          "name": "stdout",
          "text": [
            " RMSE for call_iv_26400: 0.000004\n"
          ]
        },
        {
          "output_type": "stream",
          "name": "stderr",
          "text": [
            "/tmp/ipython-input-451387676.py:65: FutureWarning: Downcasting behavior in `replace` is deprecated and will be removed in a future version. To retain the old behavior, explicitly call `result.infer_objects(copy=False)`. To opt-in to the future behavior, set `pd.set_option('future.no_silent_downcasting', True)`\n",
            "  train_df.replace([np.inf, -np.inf], np.nan, inplace=True)\n"
          ]
        },
        {
          "output_type": "stream",
          "name": "stdout",
          "text": [
            " RMSE for call_iv_26500: 0.000018\n"
          ]
        },
        {
          "output_type": "stream",
          "name": "stderr",
          "text": [
            "/tmp/ipython-input-451387676.py:65: FutureWarning: Downcasting behavior in `replace` is deprecated and will be removed in a future version. To retain the old behavior, explicitly call `result.infer_objects(copy=False)`. To opt-in to the future behavior, set `pd.set_option('future.no_silent_downcasting', True)`\n",
            "  train_df.replace([np.inf, -np.inf], np.nan, inplace=True)\n"
          ]
        },
        {
          "output_type": "stream",
          "name": "stdout",
          "text": [
            " RMSE for put_iv_25100: 0.000002\n"
          ]
        },
        {
          "output_type": "stream",
          "name": "stderr",
          "text": [
            "/tmp/ipython-input-451387676.py:65: FutureWarning: Downcasting behavior in `replace` is deprecated and will be removed in a future version. To retain the old behavior, explicitly call `result.infer_objects(copy=False)`. To opt-in to the future behavior, set `pd.set_option('future.no_silent_downcasting', True)`\n",
            "  train_df.replace([np.inf, -np.inf], np.nan, inplace=True)\n"
          ]
        },
        {
          "output_type": "stream",
          "name": "stdout",
          "text": [
            " RMSE for put_iv_25200: 0.000003\n"
          ]
        },
        {
          "output_type": "stream",
          "name": "stderr",
          "text": [
            "/tmp/ipython-input-451387676.py:65: FutureWarning: Downcasting behavior in `replace` is deprecated and will be removed in a future version. To retain the old behavior, explicitly call `result.infer_objects(copy=False)`. To opt-in to the future behavior, set `pd.set_option('future.no_silent_downcasting', True)`\n",
            "  train_df.replace([np.inf, -np.inf], np.nan, inplace=True)\n"
          ]
        },
        {
          "output_type": "stream",
          "name": "stdout",
          "text": [
            " RMSE for put_iv_25300: 0.000010\n"
          ]
        },
        {
          "output_type": "stream",
          "name": "stderr",
          "text": [
            "/tmp/ipython-input-451387676.py:65: FutureWarning: Downcasting behavior in `replace` is deprecated and will be removed in a future version. To retain the old behavior, explicitly call `result.infer_objects(copy=False)`. To opt-in to the future behavior, set `pd.set_option('future.no_silent_downcasting', True)`\n",
            "  train_df.replace([np.inf, -np.inf], np.nan, inplace=True)\n"
          ]
        },
        {
          "output_type": "stream",
          "name": "stdout",
          "text": [
            " RMSE for put_iv_25400: 0.000013\n"
          ]
        },
        {
          "output_type": "stream",
          "name": "stderr",
          "text": [
            "/tmp/ipython-input-451387676.py:65: FutureWarning: Downcasting behavior in `replace` is deprecated and will be removed in a future version. To retain the old behavior, explicitly call `result.infer_objects(copy=False)`. To opt-in to the future behavior, set `pd.set_option('future.no_silent_downcasting', True)`\n",
            "  train_df.replace([np.inf, -np.inf], np.nan, inplace=True)\n"
          ]
        },
        {
          "output_type": "stream",
          "name": "stdout",
          "text": [
            " RMSE for put_iv_25500: 0.000009\n",
            "\n",
            " Average Validation RMSE: 0.00000378\n"
          ]
        }
      ],
      "source": [
        "import pandas as pd\n",
        "import numpy as np\n",
        "from xgboost import XGBRegressor\n",
        "from sklearn.model_selection import train_test_split\n",
        "from sklearn.metrics import mean_squared_error\n",
        "from scipy.stats import norm\n",
        "import joblib\n",
        "import os\n",
        "\n",
        "# === Step 1: Load Data ===\n",
        "train_data = pd.read_parquet(\"train_data.parquet\")\n",
        "test_data = pd.read_parquet(\"test_data.parquet\")\n",
        "df = pd.concat([train_data, test_data], ignore_index=True)\n",
        "\n",
        "# === Step 2: Extract Time Features ===\n",
        "def extract_time_features(df, timestamp_col='timestamp', market_open_time='09:15:00'):\n",
        "    df[timestamp_col] = pd.to_datetime(df[timestamp_col])\n",
        "    df['second'] = df[timestamp_col].dt.second\n",
        "    df['minute'] = df[timestamp_col].dt.minute\n",
        "    df['hour'] = df[timestamp_col].dt.hour\n",
        "    market_open = pd.to_datetime(df[timestamp_col].dt.date.astype(str) + f' {market_open_time}')\n",
        "    df['seconds_since_open'] = (df[timestamp_col] - market_open).dt.total_seconds()\n",
        "    df['seconds_in_day'] = df['hour'] * 3600 + df['minute'] * 60 + df['second']\n",
        "    max_seconds = 23400  # 6.5 trading hours\n",
        "    df['time_sin'] = np.sin(2 * np.pi * df['seconds_in_day'] / max_seconds)\n",
        "    df['time_cos'] = np.cos(2 * np.pi * df['seconds_in_day'] / max_seconds)\n",
        "    df.drop(columns=[timestamp_col], inplace=True)\n",
        "    return df\n",
        "\n",
        "df = extract_time_features(df)\n",
        "\n",
        "# === Step 3: Add Expiry Features ===\n",
        "if 'days_to_expiry' not in df.columns:\n",
        "    df['days_to_expiry'] = 5  # default fallback\n",
        "df['time_to_expiry'] = df['days_to_expiry'] / 365\n",
        "\n",
        "# === Step 4: BSM Greeks ===\n",
        "def compute_bsm_features(S, K, T, r, sigma):\n",
        "    try:\n",
        "        if sigma <= 0 or T <= 0:\n",
        "            return np.nan, np.nan, np.nan\n",
        "        d1 = (np.log(S / K) + (r + 0.5 * sigma**2) * T) / (sigma * np.sqrt(T))\n",
        "        d2 = d1 - sigma * np.sqrt(T)\n",
        "        delta = norm.cdf(d1)\n",
        "        vega = S * norm.pdf(d1) * np.sqrt(T)\n",
        "        gamma = norm.pdf(d1) / (S * sigma * np.sqrt(T))\n",
        "        return delta, vega, gamma\n",
        "    except:\n",
        "        return np.nan, np.nan, np.nan\n",
        "\n",
        "# === Step 5: Setup ===\n",
        "base_feature_cols = [f'X{i}' for i in range(42)] + [\n",
        "    'underlying', 'second', 'minute', 'hour',\n",
        "    'seconds_since_open', 'time_sin', 'time_cos'\n",
        "]\n",
        "risk_free_rate = 0.06\n",
        "iv_cols = [col for col in df.columns if col.startswith('call_iv_') or col.startswith('put_iv_')]\n",
        "nearby_iv_cols = ['call_iv_24400', 'call_iv_24600']\n",
        "rmses = []\n",
        "trained_models = {}\n",
        "\n",
        "# === Step 6: Data Cleaning ===\n",
        "def clean_training_data(df, target_iv, feature_cols, max_iv=5.0):\n",
        "    train_df = df[df[target_iv].notna()].copy()\n",
        "    train_df.replace([np.inf, -np.inf], np.nan, inplace=True)\n",
        "    train_df.dropna(subset=feature_cols + [target_iv], inplace=True)\n",
        "    train_df = train_df[(train_df[target_iv] > 0) & (train_df[target_iv] < max_iv)]\n",
        "    return train_df\n",
        "\n",
        "# === Step 7: Train Models ===\n",
        "os.makedirs(\"models\", exist_ok=True)\n",
        "\n",
        "for target_iv in iv_cols:\n",
        "    strike = int(target_iv.split('_')[-1])\n",
        "\n",
        "    # Compute Greeks using the target IV\n",
        "    df[['bsm_delta', 'bsm_vega', 'bsm_gamma']] = df.apply(\n",
        "        lambda row: compute_bsm_features(\n",
        "            S=row['underlying'],\n",
        "            K=strike,\n",
        "            T=row['time_to_expiry'],\n",
        "            r=risk_free_rate,\n",
        "            sigma=row[target_iv] if pd.notna(row[target_iv]) else 0.2\n",
        "        ),\n",
        "        axis=1, result_type='expand'\n",
        "    )\n",
        "\n",
        "    feature_cols = base_feature_cols + ['bsm_delta', 'bsm_vega', 'bsm_gamma']\n",
        "    for col in nearby_iv_cols:\n",
        "        if col != target_iv and col in df.columns:\n",
        "            feature_cols.append(col)\n",
        "\n",
        "    train_df = clean_training_data(df, target_iv, feature_cols)\n",
        "    if train_df.empty:\n",
        "        print(f\" Skipping {target_iv}: No valid training data.\")\n",
        "        continue\n",
        "\n",
        "    X = train_df[feature_cols]\n",
        "    y = train_df[target_iv]\n",
        "    X_tr, X_val, y_tr, y_val = train_test_split(X, y, test_size=0.2, random_state=42)\n",
        "\n",
        "    model = XGBRegressor(\n",
        "        n_estimators=200,\n",
        "        learning_rate=0.05,\n",
        "        max_depth=6,\n",
        "        tree_method='hist',\n",
        "        n_jobs=-1,\n",
        "        random_state=42\n",
        "    )\n",
        "    model.fit(X_tr, y_tr)\n",
        "    joblib.dump(model, f\"models/{target_iv}_model.pkl\")\n",
        "    trained_models[target_iv] = model\n",
        "\n",
        "    y_pred = model.predict(X_val)\n",
        "    rmse = mean_squared_error(y_val, y_pred)\n",
        "    rmses.append(rmse)\n",
        "    print(f\" RMSE for {target_iv}: {rmse:.6f}\")\n",
        "\n",
        "# === Step 8: Print Average RMSE ===\n",
        "if rmses:\n",
        "    print(f\"\\n Average Validation RMSE: {np.mean(rmses):.8f}\")\n",
        "else:\n",
        "    print(\" No models trained.\")\n",
        "\n"
      ]
    },
    {
      "cell_type": "code",
      "source": [
        "# === Step 9: Generate Submission with All Calls and Puts ===\n",
        "print(\"\\n Generating final submission...\")\n",
        "\n",
        "submission_preds = {}\n",
        "\n",
        "for target_iv, model in trained_models.items():\n",
        "    strike = int(target_iv.split('_')[-1])\n",
        "    prefix = 'call' if 'call' in target_iv else 'put'\n",
        "    colname = f\"{prefix}_{strike}\"\n",
        "\n",
        "    df[['bsm_delta', 'bsm_vega', 'bsm_gamma']] = df.apply(\n",
        "        lambda row: compute_bsm_features(\n",
        "            S=row['underlying'],\n",
        "            K=strike,\n",
        "            T=row['time_to_expiry'],\n",
        "            r=risk_free_rate,\n",
        "            sigma=row[target_iv] if pd.notna(row[target_iv]) else 0.2\n",
        "        ),\n",
        "        axis=1, result_type='expand'\n",
        "    )\n",
        "\n",
        "    feature_cols = base_feature_cols + ['bsm_delta', 'bsm_vega', 'bsm_gamma']\n",
        "    for extra_col in nearby_iv_cols:\n",
        "        if extra_col != target_iv and extra_col in df.columns:\n",
        "            feature_cols.append(extra_col)\n",
        "\n",
        "    X_pred = df[feature_cols].replace([np.inf, -np.inf], np.nan).fillna(0)\n",
        "    preds = model.predict(X_pred)\n",
        "    submission_preds[colname] = preds[:12065]\n",
        "\n",
        "# === Step 10: Format and Save ===\n",
        "submission_df = pd.DataFrame(submission_preds).iloc[:12065].copy()\n",
        "submission_df.index = np.arange(12065)\n",
        "\n",
        "call_cols = sorted([col for col in submission_df.columns if col.startswith(\"call_\")])\n",
        "put_cols = sorted([col for col in submission_df.columns if col.startswith(\"put_\")])\n",
        "submission_df = submission_df[call_cols + put_cols]\n",
        "\n",
        "submission_df.to_csv(\"final_submission_all_calls_puts.csv\", index=False)\n",
        "print(f\" Saved submission as final_submission_all_calls_puts.csv with shape {submission_df.shape}\")\n"
      ],
      "metadata": {
        "id": "yKL9rrM2cJ96",
        "colab": {
          "base_uri": "https://localhost:8080/",
          "height": 391
        },
        "outputId": "2a0b3f10-48fa-4ba7-8ef4-d49cb94ca9a0"
      },
      "execution_count": null,
      "outputs": [
        {
          "output_type": "stream",
          "name": "stdout",
          "text": [
            "\n",
            " Generating final submission...\n"
          ]
        },
        {
          "output_type": "error",
          "ename": "KeyboardInterrupt",
          "evalue": "",
          "traceback": [
            "\u001b[0;31m---------------------------------------------------------------------------\u001b[0m",
            "\u001b[0;31mKeyboardInterrupt\u001b[0m                         Traceback (most recent call last)",
            "\u001b[0;32m/tmp/ipython-input-1468808046.py\u001b[0m in \u001b[0;36m<cell line: 0>\u001b[0;34m()\u001b[0m\n\u001b[1;32m      9\u001b[0m     \u001b[0mcolname\u001b[0m \u001b[0;34m=\u001b[0m \u001b[0;34mf\"{prefix}_{strike}\"\u001b[0m\u001b[0;34m\u001b[0m\u001b[0;34m\u001b[0m\u001b[0m\n\u001b[1;32m     10\u001b[0m \u001b[0;34m\u001b[0m\u001b[0m\n\u001b[0;32m---> 11\u001b[0;31m     df[['bsm_delta', 'bsm_vega', 'bsm_gamma']] = df.apply(\n\u001b[0m\u001b[1;32m     12\u001b[0m         lambda row: compute_bsm_features(\n\u001b[1;32m     13\u001b[0m             \u001b[0mS\u001b[0m\u001b[0;34m=\u001b[0m\u001b[0mrow\u001b[0m\u001b[0;34m[\u001b[0m\u001b[0;34m'underlying'\u001b[0m\u001b[0;34m]\u001b[0m\u001b[0;34m,\u001b[0m\u001b[0;34m\u001b[0m\u001b[0;34m\u001b[0m\u001b[0m\n",
            "\u001b[0;32m/usr/local/lib/python3.12/dist-packages/pandas/core/frame.py\u001b[0m in \u001b[0;36mapply\u001b[0;34m(self, func, axis, raw, result_type, args, by_row, engine, engine_kwargs, **kwargs)\u001b[0m\n\u001b[1;32m  10372\u001b[0m             \u001b[0mkwargs\u001b[0m\u001b[0;34m=\u001b[0m\u001b[0mkwargs\u001b[0m\u001b[0;34m,\u001b[0m\u001b[0;34m\u001b[0m\u001b[0;34m\u001b[0m\u001b[0m\n\u001b[1;32m  10373\u001b[0m         )\n\u001b[0;32m> 10374\u001b[0;31m         \u001b[0;32mreturn\u001b[0m \u001b[0mop\u001b[0m\u001b[0;34m.\u001b[0m\u001b[0mapply\u001b[0m\u001b[0;34m(\u001b[0m\u001b[0;34m)\u001b[0m\u001b[0;34m.\u001b[0m\u001b[0m__finalize__\u001b[0m\u001b[0;34m(\u001b[0m\u001b[0mself\u001b[0m\u001b[0;34m,\u001b[0m \u001b[0mmethod\u001b[0m\u001b[0;34m=\u001b[0m\u001b[0;34m\"apply\"\u001b[0m\u001b[0;34m)\u001b[0m\u001b[0;34m\u001b[0m\u001b[0;34m\u001b[0m\u001b[0m\n\u001b[0m\u001b[1;32m  10375\u001b[0m \u001b[0;34m\u001b[0m\u001b[0m\n\u001b[1;32m  10376\u001b[0m     def map(\n",
            "\u001b[0;32m/usr/local/lib/python3.12/dist-packages/pandas/core/apply.py\u001b[0m in \u001b[0;36mapply\u001b[0;34m(self)\u001b[0m\n\u001b[1;32m    914\u001b[0m             \u001b[0;32mreturn\u001b[0m \u001b[0mself\u001b[0m\u001b[0;34m.\u001b[0m\u001b[0mapply_raw\u001b[0m\u001b[0;34m(\u001b[0m\u001b[0mengine\u001b[0m\u001b[0;34m=\u001b[0m\u001b[0mself\u001b[0m\u001b[0;34m.\u001b[0m\u001b[0mengine\u001b[0m\u001b[0;34m,\u001b[0m \u001b[0mengine_kwargs\u001b[0m\u001b[0;34m=\u001b[0m\u001b[0mself\u001b[0m\u001b[0;34m.\u001b[0m\u001b[0mengine_kwargs\u001b[0m\u001b[0;34m)\u001b[0m\u001b[0;34m\u001b[0m\u001b[0;34m\u001b[0m\u001b[0m\n\u001b[1;32m    915\u001b[0m \u001b[0;34m\u001b[0m\u001b[0m\n\u001b[0;32m--> 916\u001b[0;31m         \u001b[0;32mreturn\u001b[0m \u001b[0mself\u001b[0m\u001b[0;34m.\u001b[0m\u001b[0mapply_standard\u001b[0m\u001b[0;34m(\u001b[0m\u001b[0;34m)\u001b[0m\u001b[0;34m\u001b[0m\u001b[0;34m\u001b[0m\u001b[0m\n\u001b[0m\u001b[1;32m    917\u001b[0m \u001b[0;34m\u001b[0m\u001b[0m\n\u001b[1;32m    918\u001b[0m     \u001b[0;32mdef\u001b[0m \u001b[0magg\u001b[0m\u001b[0;34m(\u001b[0m\u001b[0mself\u001b[0m\u001b[0;34m)\u001b[0m\u001b[0;34m:\u001b[0m\u001b[0;34m\u001b[0m\u001b[0;34m\u001b[0m\u001b[0m\n",
            "\u001b[0;32m/usr/local/lib/python3.12/dist-packages/pandas/core/apply.py\u001b[0m in \u001b[0;36mapply_standard\u001b[0;34m(self)\u001b[0m\n\u001b[1;32m   1061\u001b[0m     \u001b[0;32mdef\u001b[0m \u001b[0mapply_standard\u001b[0m\u001b[0;34m(\u001b[0m\u001b[0mself\u001b[0m\u001b[0;34m)\u001b[0m\u001b[0;34m:\u001b[0m\u001b[0;34m\u001b[0m\u001b[0;34m\u001b[0m\u001b[0m\n\u001b[1;32m   1062\u001b[0m         \u001b[0;32mif\u001b[0m \u001b[0mself\u001b[0m\u001b[0;34m.\u001b[0m\u001b[0mengine\u001b[0m \u001b[0;34m==\u001b[0m \u001b[0;34m\"python\"\u001b[0m\u001b[0;34m:\u001b[0m\u001b[0;34m\u001b[0m\u001b[0;34m\u001b[0m\u001b[0m\n\u001b[0;32m-> 1063\u001b[0;31m             \u001b[0mresults\u001b[0m\u001b[0;34m,\u001b[0m \u001b[0mres_index\u001b[0m \u001b[0;34m=\u001b[0m \u001b[0mself\u001b[0m\u001b[0;34m.\u001b[0m\u001b[0mapply_series_generator\u001b[0m\u001b[0;34m(\u001b[0m\u001b[0;34m)\u001b[0m\u001b[0;34m\u001b[0m\u001b[0;34m\u001b[0m\u001b[0m\n\u001b[0m\u001b[1;32m   1064\u001b[0m         \u001b[0;32melse\u001b[0m\u001b[0;34m:\u001b[0m\u001b[0;34m\u001b[0m\u001b[0;34m\u001b[0m\u001b[0m\n\u001b[1;32m   1065\u001b[0m             \u001b[0mresults\u001b[0m\u001b[0;34m,\u001b[0m \u001b[0mres_index\u001b[0m \u001b[0;34m=\u001b[0m \u001b[0mself\u001b[0m\u001b[0;34m.\u001b[0m\u001b[0mapply_series_numba\u001b[0m\u001b[0;34m(\u001b[0m\u001b[0;34m)\u001b[0m\u001b[0;34m\u001b[0m\u001b[0;34m\u001b[0m\u001b[0m\n",
            "\u001b[0;32m/usr/local/lib/python3.12/dist-packages/pandas/core/apply.py\u001b[0m in \u001b[0;36mapply_series_generator\u001b[0;34m(self)\u001b[0m\n\u001b[1;32m   1079\u001b[0m             \u001b[0;32mfor\u001b[0m \u001b[0mi\u001b[0m\u001b[0;34m,\u001b[0m \u001b[0mv\u001b[0m \u001b[0;32min\u001b[0m \u001b[0menumerate\u001b[0m\u001b[0;34m(\u001b[0m\u001b[0mseries_gen\u001b[0m\u001b[0;34m)\u001b[0m\u001b[0;34m:\u001b[0m\u001b[0;34m\u001b[0m\u001b[0;34m\u001b[0m\u001b[0m\n\u001b[1;32m   1080\u001b[0m                 \u001b[0;31m# ignore SettingWithCopy here in case the user mutates\u001b[0m\u001b[0;34m\u001b[0m\u001b[0;34m\u001b[0m\u001b[0m\n\u001b[0;32m-> 1081\u001b[0;31m                 \u001b[0mresults\u001b[0m\u001b[0;34m[\u001b[0m\u001b[0mi\u001b[0m\u001b[0;34m]\u001b[0m \u001b[0;34m=\u001b[0m \u001b[0mself\u001b[0m\u001b[0;34m.\u001b[0m\u001b[0mfunc\u001b[0m\u001b[0;34m(\u001b[0m\u001b[0mv\u001b[0m\u001b[0;34m,\u001b[0m \u001b[0;34m*\u001b[0m\u001b[0mself\u001b[0m\u001b[0;34m.\u001b[0m\u001b[0margs\u001b[0m\u001b[0;34m,\u001b[0m \u001b[0;34m**\u001b[0m\u001b[0mself\u001b[0m\u001b[0;34m.\u001b[0m\u001b[0mkwargs\u001b[0m\u001b[0;34m)\u001b[0m\u001b[0;34m\u001b[0m\u001b[0;34m\u001b[0m\u001b[0m\n\u001b[0m\u001b[1;32m   1082\u001b[0m                 \u001b[0;32mif\u001b[0m \u001b[0misinstance\u001b[0m\u001b[0;34m(\u001b[0m\u001b[0mresults\u001b[0m\u001b[0;34m[\u001b[0m\u001b[0mi\u001b[0m\u001b[0;34m]\u001b[0m\u001b[0;34m,\u001b[0m \u001b[0mABCSeries\u001b[0m\u001b[0;34m)\u001b[0m\u001b[0;34m:\u001b[0m\u001b[0;34m\u001b[0m\u001b[0;34m\u001b[0m\u001b[0m\n\u001b[1;32m   1083\u001b[0m                     \u001b[0;31m# If we have a view on v, we need to make a copy because\u001b[0m\u001b[0;34m\u001b[0m\u001b[0;34m\u001b[0m\u001b[0m\n",
            "\u001b[0;32m/tmp/ipython-input-1468808046.py\u001b[0m in \u001b[0;36m<lambda>\u001b[0;34m(row)\u001b[0m\n\u001b[1;32m     13\u001b[0m             \u001b[0mS\u001b[0m\u001b[0;34m=\u001b[0m\u001b[0mrow\u001b[0m\u001b[0;34m[\u001b[0m\u001b[0;34m'underlying'\u001b[0m\u001b[0;34m]\u001b[0m\u001b[0;34m,\u001b[0m\u001b[0;34m\u001b[0m\u001b[0;34m\u001b[0m\u001b[0m\n\u001b[1;32m     14\u001b[0m             \u001b[0mK\u001b[0m\u001b[0;34m=\u001b[0m\u001b[0mstrike\u001b[0m\u001b[0;34m,\u001b[0m\u001b[0;34m\u001b[0m\u001b[0;34m\u001b[0m\u001b[0m\n\u001b[0;32m---> 15\u001b[0;31m             \u001b[0mT\u001b[0m\u001b[0;34m=\u001b[0m\u001b[0mrow\u001b[0m\u001b[0;34m[\u001b[0m\u001b[0;34m'time_to_expiry'\u001b[0m\u001b[0;34m]\u001b[0m\u001b[0;34m,\u001b[0m\u001b[0;34m\u001b[0m\u001b[0;34m\u001b[0m\u001b[0m\n\u001b[0m\u001b[1;32m     16\u001b[0m             \u001b[0mr\u001b[0m\u001b[0;34m=\u001b[0m\u001b[0mrisk_free_rate\u001b[0m\u001b[0;34m,\u001b[0m\u001b[0;34m\u001b[0m\u001b[0;34m\u001b[0m\u001b[0m\n\u001b[1;32m     17\u001b[0m             \u001b[0msigma\u001b[0m\u001b[0;34m=\u001b[0m\u001b[0mrow\u001b[0m\u001b[0;34m[\u001b[0m\u001b[0mtarget_iv\u001b[0m\u001b[0;34m]\u001b[0m \u001b[0;32mif\u001b[0m \u001b[0mpd\u001b[0m\u001b[0;34m.\u001b[0m\u001b[0mnotna\u001b[0m\u001b[0;34m(\u001b[0m\u001b[0mrow\u001b[0m\u001b[0;34m[\u001b[0m\u001b[0mtarget_iv\u001b[0m\u001b[0;34m]\u001b[0m\u001b[0;34m)\u001b[0m \u001b[0;32melse\u001b[0m \u001b[0;36m0.2\u001b[0m\u001b[0;34m\u001b[0m\u001b[0;34m\u001b[0m\u001b[0m\n",
            "\u001b[0;32m/usr/local/lib/python3.12/dist-packages/pandas/core/series.py\u001b[0m in \u001b[0;36m__getitem__\u001b[0;34m(self, key)\u001b[0m\n\u001b[1;32m   1102\u001b[0m             \u001b[0;32mreturn\u001b[0m \u001b[0mself\u001b[0m\u001b[0;34m\u001b[0m\u001b[0;34m\u001b[0m\u001b[0m\n\u001b[1;32m   1103\u001b[0m \u001b[0;34m\u001b[0m\u001b[0m\n\u001b[0;32m-> 1104\u001b[0;31m         \u001b[0mkey_is_scalar\u001b[0m \u001b[0;34m=\u001b[0m \u001b[0mis_scalar\u001b[0m\u001b[0;34m(\u001b[0m\u001b[0mkey\u001b[0m\u001b[0;34m)\u001b[0m\u001b[0;34m\u001b[0m\u001b[0;34m\u001b[0m\u001b[0m\n\u001b[0m\u001b[1;32m   1105\u001b[0m         \u001b[0;32mif\u001b[0m \u001b[0misinstance\u001b[0m\u001b[0;34m(\u001b[0m\u001b[0mkey\u001b[0m\u001b[0;34m,\u001b[0m \u001b[0;34m(\u001b[0m\u001b[0mlist\u001b[0m\u001b[0;34m,\u001b[0m \u001b[0mtuple\u001b[0m\u001b[0;34m)\u001b[0m\u001b[0;34m)\u001b[0m\u001b[0;34m:\u001b[0m\u001b[0;34m\u001b[0m\u001b[0;34m\u001b[0m\u001b[0m\n\u001b[1;32m   1106\u001b[0m             \u001b[0mkey\u001b[0m \u001b[0;34m=\u001b[0m \u001b[0munpack_1tuple\u001b[0m\u001b[0;34m(\u001b[0m\u001b[0mkey\u001b[0m\u001b[0;34m)\u001b[0m\u001b[0;34m\u001b[0m\u001b[0;34m\u001b[0m\u001b[0m\n",
            "\u001b[0;31mKeyboardInterrupt\u001b[0m: "
          ]
        }
      ]
    },
    {
      "cell_type": "code",
      "source": [
        "import shutil\n",
        "\n",
        "shutil.move(\"final_submission_all_calls_puts.csv\", \"/content/final_submission_all_calls_puts.csv\")  # if using Google Colab\n",
        "\n",
        "from google.colab import files\n",
        "files.download(\"final_submission_all_calls_puts.csv\")\n"
      ],
      "metadata": {
        "id": "CPA8h7ZOGF9f",
        "colab": {
          "base_uri": "https://localhost:8080/",
          "height": 17
        },
        "outputId": "27627ce0-52f9-47f6-caa2-947ab90fcf5b"
      },
      "execution_count": null,
      "outputs": [
        {
          "output_type": "display_data",
          "data": {
            "text/plain": [
              "<IPython.core.display.Javascript object>"
            ],
            "application/javascript": [
              "\n",
              "    async function download(id, filename, size) {\n",
              "      if (!google.colab.kernel.accessAllowed) {\n",
              "        return;\n",
              "      }\n",
              "      const div = document.createElement('div');\n",
              "      const label = document.createElement('label');\n",
              "      label.textContent = `Downloading \"${filename}\": `;\n",
              "      div.appendChild(label);\n",
              "      const progress = document.createElement('progress');\n",
              "      progress.max = size;\n",
              "      div.appendChild(progress);\n",
              "      document.body.appendChild(div);\n",
              "\n",
              "      const buffers = [];\n",
              "      let downloaded = 0;\n",
              "\n",
              "      const channel = await google.colab.kernel.comms.open(id);\n",
              "      // Send a message to notify the kernel that we're ready.\n",
              "      channel.send({})\n",
              "\n",
              "      for await (const message of channel.messages) {\n",
              "        // Send a message to notify the kernel that we're ready.\n",
              "        channel.send({})\n",
              "        if (message.buffers) {\n",
              "          for (const buffer of message.buffers) {\n",
              "            buffers.push(buffer);\n",
              "            downloaded += buffer.byteLength;\n",
              "            progress.value = downloaded;\n",
              "          }\n",
              "        }\n",
              "      }\n",
              "      const blob = new Blob(buffers, {type: 'application/binary'});\n",
              "      const a = document.createElement('a');\n",
              "      a.href = window.URL.createObjectURL(blob);\n",
              "      a.download = filename;\n",
              "      div.appendChild(a);\n",
              "      a.click();\n",
              "      div.remove();\n",
              "    }\n",
              "  "
            ]
          },
          "metadata": {}
        },
        {
          "output_type": "display_data",
          "data": {
            "text/plain": [
              "<IPython.core.display.Javascript object>"
            ],
            "application/javascript": [
              "download(\"download_c8739c82-b6c9-49da-b3a5-45b275402dbd\", \"final_submission_all_calls_puts.csv\", 7833079)"
            ]
          },
          "metadata": {}
        }
      ]
    },
    {
      "cell_type": "code",
      "source": [
        "df = pd.read_csv('sample_submission.csv')\n",
        "df.shape"
      ],
      "metadata": {
        "id": "AkotnchHs6uS",
        "colab": {
          "base_uri": "https://localhost:8080/"
        },
        "outputId": "a5843729-b570-4334-cac6-c730e8f73d9a"
      },
      "execution_count": null,
      "outputs": [
        {
          "output_type": "execute_result",
          "data": {
            "text/plain": [
              "(12065, 53)"
            ]
          },
          "metadata": {},
          "execution_count": 4
        }
      ]
    },
    {
      "cell_type": "code",
      "source": [
        "df.head()"
      ],
      "metadata": {
        "id": "WR2VjgMTid7X",
        "colab": {
          "base_uri": "https://localhost:8080/",
          "height": 141
        },
        "outputId": "c02b2a7e-6491-49f9-cf8d-42934d17756f"
      },
      "execution_count": null,
      "outputs": [
        {
          "output_type": "error",
          "ename": "NameError",
          "evalue": "name 'df' is not defined",
          "traceback": [
            "\u001b[0;31m---------------------------------------------------------------------------\u001b[0m",
            "\u001b[0;31mNameError\u001b[0m                                 Traceback (most recent call last)",
            "\u001b[0;32m/tmp/ipython-input-964094849.py\u001b[0m in \u001b[0;36m<cell line: 0>\u001b[0;34m()\u001b[0m\n\u001b[0;32m----> 1\u001b[0;31m \u001b[0mdf\u001b[0m\u001b[0;34m.\u001b[0m\u001b[0mhead\u001b[0m\u001b[0;34m(\u001b[0m\u001b[0;34m)\u001b[0m\u001b[0;34m\u001b[0m\u001b[0;34m\u001b[0m\u001b[0m\n\u001b[0m",
            "\u001b[0;31mNameError\u001b[0m: name 'df' is not defined"
          ]
        }
      ]
    },
    {
      "cell_type": "code",
      "source": [],
      "metadata": {
        "id": "8gejstfdw15W"
      },
      "execution_count": null,
      "outputs": []
    },
    {
      "cell_type": "code",
      "metadata": {
        "colab": {
          "base_uri": "https://localhost:8080/",
          "height": 563
        },
        "id": "b5bb66a9",
        "outputId": "99525f35-94a2-4368-f8e0-c51fe5a822a0"
      },
      "source": [
        "import matplotlib.pyplot as plt\n",
        "\n",
        "# Load the submission file\n",
        "submission_df = pd.read_csv(\"Final NK - Sheet1 (1).csv\")\n",
        "\n",
        "# Extract call and put IV columns\n",
        "call_cols = sorted([col for col in submission_df.columns if col.startswith(\"call_\")])\n",
        "put_cols = sorted([col for col in submission_df.columns if col.startswith(\"put_\")])\n",
        "\n",
        "# Extract strikes\n",
        "call_strikes = [int(col.split('_')[-1]) for col in call_cols]\n",
        "put_strikes = [int(col.split('_')[-1]) for col in put_cols]\n",
        "\n",
        "# Calculate average IV for each strike across all rows\n",
        "avg_call_iv = submission_df[call_cols].mean()\n",
        "avg_put_iv = submission_df[put_cols].mean()\n",
        "\n",
        "# Sort strikes and corresponding average IVs\n",
        "call_strikes, avg_call_iv = zip(*sorted(zip(call_strikes, avg_call_iv)))\n",
        "put_strikes, avg_put_iv = zip(*sorted(zip(put_strikes, avg_put_iv)))\n",
        "\n",
        "# Create the plot\n",
        "plt.figure(figsize=(12, 6))\n",
        "plt.plot(call_strikes, avg_call_iv, marker='o', linestyle='-', label='Call Options')\n",
        "plt.plot(put_strikes, avg_put_iv, marker='o', linestyle='-', label='Put Options')\n",
        "\n",
        "plt.title('Implied Volatility Smile Curve')\n",
        "plt.xlabel('Strike Price')\n",
        "plt.ylabel('Implied Volatility')\n",
        "plt.grid(True)\n",
        "plt.legend()\n",
        "plt.show()"
      ],
      "execution_count": null,
      "outputs": [
        {
          "output_type": "display_data",
          "data": {
            "text/plain": [
              "<Figure size 1200x600 with 1 Axes>"
            ],
            "image/png": "[encoded data removed]"
          },
          "metadata": {}
        }
      ]
    },
    {
      "cell_type": "code",
      "source": [],
      "metadata": {
        "id": "JFOaIw_Yinxv"
      },
      "execution_count": null,
      "outputs": []
    }
  ]
}
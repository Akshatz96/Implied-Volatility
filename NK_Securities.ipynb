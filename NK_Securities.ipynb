{
  "nbformat": 4,
  "nbformat_minor": 0,
  "metadata": {
    "colab": {
      "provenance": []
    },
    "kernelspec": {
      "name": "python3",
      "display_name": "Python 3"
    },
    "language_info": {
      "name": "python"
    }
  },
  "cells": [
    {
      "cell_type": "code",
      "execution_count": 1,
      "metadata": {
        "colab": {
          "base_uri": "https://localhost:8080/"
        },
        "id": "zUY1cn6wqsKm",
        "outputId": "20aa5902-bd2e-4c92-9bfc-18a189aec42b"
      },
      "outputs": [
        {
          "metadata": {
            "tags": null
          },
          "name": "stdout",
          "output_type": "stream",
          "text": [
            " RMSE for call_iv_23500: 0.000009\n",
            " RMSE for call_iv_23600: 0.000010\n",
            " RMSE for call_iv_23700: 0.000006\n",
            " RMSE for call_iv_23800: 0.000005\n",
            " RMSE for call_iv_23900: 0.000002\n",
            " RMSE for call_iv_24000: 0.000001\n",
            " RMSE for call_iv_24100: 0.000001\n",
            " RMSE for call_iv_24200: 0.000000\n",
            " RMSE for call_iv_24300: 0.000000\n",
            " RMSE for call_iv_24400: 0.000000\n",
            " RMSE for call_iv_24500: 0.000000\n",
            " RMSE for call_iv_24600: 0.000000\n",
            " RMSE for call_iv_24700: 0.000001\n",
            " RMSE for call_iv_24800: 0.000001\n",
            " RMSE for call_iv_24900: 0.000002\n",
            " RMSE for call_iv_25000: 0.000001\n",
            " RMSE for call_iv_25100: 0.000002\n",
            " RMSE for call_iv_25200: 0.000003\n",
            " RMSE for call_iv_25300: 0.000006\n",
            " RMSE for call_iv_25400: 0.000003\n",
            " RMSE for call_iv_25500: 0.000004\n",
            " RMSE for call_iv_25600: 0.000004\n",
            " RMSE for call_iv_25700: 0.000004\n",
            " RMSE for call_iv_25800: 0.000004\n",
            " RMSE for call_iv_25900: 0.000007\n",
            " RMSE for call_iv_26000: 0.000004\n",
            " RMSE for put_iv_22500: 0.000005\n",
            " RMSE for put_iv_22600: 0.000004\n",
            " RMSE for put_iv_22700: 0.000004\n",
            " RMSE for put_iv_22800: 0.000004\n",
            " RMSE for put_iv_22900: 0.000003\n",
            " RMSE for put_iv_23000: 0.000003\n",
            " RMSE for put_iv_23100: 0.000003\n",
            " RMSE for put_iv_23200: 0.000003\n",
            " RMSE for put_iv_23300: 0.000003\n",
            " RMSE for put_iv_23400: 0.000003\n",
            " RMSE for put_iv_23500: 0.000002\n",
            " RMSE for put_iv_23600: 0.000002\n",
            " RMSE for put_iv_23700: 0.000003\n",
            " RMSE for put_iv_23800: 0.000002\n",
            " RMSE for put_iv_23900: 0.000001\n",
            " RMSE for put_iv_24000: 0.000001\n",
            " RMSE for put_iv_24100: 0.000001\n",
            " RMSE for put_iv_24200: 0.000000\n",
            " RMSE for put_iv_24300: 0.000000\n",
            " RMSE for put_iv_24400: 0.000000\n",
            " RMSE for put_iv_24500: 0.000000\n",
            " RMSE for put_iv_24600: 0.000001\n",
            " RMSE for put_iv_24700: 0.000002\n",
            " RMSE for put_iv_24800: 0.000004\n",
            " RMSE for put_iv_24900: 0.000010\n",
            " RMSE for put_iv_25000: 0.000005\n"
          ]
        },
        {
          "metadata": {
            "tags": null
          },
          "name": "stderr",
          "output_type": "stream",
          "text": [
            "/tmp/ipython-input-451387676.py:65: FutureWarning: Downcasting behavior in `replace` is deprecated and will be removed in a future version. To retain the old behavior, explicitly call `result.infer_objects(copy=False)`. To opt-in to the future behavior, set `pd.set_option('future.no_silent_downcasting', True)`\n",
            "  train_df.replace([np.inf, -np.inf], np.nan, inplace=True)\n"
          ]
        },
        {
          "metadata": {
            "tags": null
          },
          "name": "stdout",
          "output_type": "stream",
          "text": [
            " RMSE for call_iv_26100: 0.000002\n"
          ]
        },
        {
          "metadata": {
            "tags": null
          },
          "name": "stderr",
          "output_type": "stream",
          "text": [
            "/tmp/ipython-input-451387676.py:65: FutureWarning: Downcasting behavior in `replace` is deprecated and will be removed in a future version. To retain the old behavior, explicitly call `result.infer_objects(copy=False)`. To opt-in to the future behavior, set `pd.set_option('future.no_silent_downcasting', True)`\n",
            "  train_df.replace([np.inf, -np.inf], np.nan, inplace=True)\n"
          ]
        },
        {
          "metadata": {
            "tags": null
          },
          "name": "stdout",
          "output_type": "stream",
          "text": [
            " RMSE for call_iv_26200: 0.000013\n"
          ]
        },
        {
          "metadata": {
            "tags": null
          },
          "name": "stderr",
          "output_type": "stream",
          "text": [
            "/tmp/ipython-input-451387676.py:65: FutureWarning: Downcasting behavior in `replace` is deprecated and will be removed in a future version. To retain the old behavior, explicitly call `result.infer_objects(copy=False)`. To opt-in to the future behavior, set `pd.set_option('future.no_silent_downcasting', True)`\n",
            "  train_df.replace([np.inf, -np.inf], np.nan, inplace=True)\n"
          ]
        },
        {
          "metadata": {
            "tags": null
          },
          "name": "stdout",
          "output_type": "stream",
          "text": [
            " RMSE for call_iv_26300: 0.000009\n"
          ]
        },
        {
          "metadata": {
            "tags": null
          },
          "name": "stderr",
          "output_type": "stream",
          "text": [
            "/tmp/ipython-input-451387676.py:65: FutureWarning: Downcasting behavior in `replace` is deprecated and will be removed in a future version. To retain the old behavior, explicitly call `result.infer_objects(copy=False)`. To opt-in to the future behavior, set `pd.set_option('future.no_silent_downcasting', True)`\n",
            "  train_df.replace([np.inf, -np.inf], np.nan, inplace=True)\n"
          ]
        },
        {
          "metadata": {
            "tags": null
          },
          "name": "stdout",
          "output_type": "stream",
          "text": [
            " RMSE for call_iv_26400: 0.000004\n"
          ]
        },
        {
          "metadata": {
            "tags": null
          },
          "name": "stderr",
          "output_type": "stream",
          "text": [
            "/tmp/ipython-input-451387676.py:65: FutureWarning: Downcasting behavior in `replace` is deprecated and will be removed in a future version. To retain the old behavior, explicitly call `result.infer_objects(copy=False)`. To opt-in to the future behavior, set `pd.set_option('future.no_silent_downcasting', True)`\n",
            "  train_df.replace([np.inf, -np.inf], np.nan, inplace=True)\n"
          ]
        },
        {
          "metadata": {
            "tags": null
          },
          "name": "stdout",
          "output_type": "stream",
          "text": [
            " RMSE for call_iv_26500: 0.000018\n"
          ]
        },
        {
          "metadata": {
            "tags": null
          },
          "name": "stderr",
          "output_type": "stream",
          "text": [
            "/tmp/ipython-input-451387676.py:65: FutureWarning: Downcasting behavior in `replace` is deprecated and will be removed in a future version. To retain the old behavior, explicitly call `result.infer_objects(copy=False)`. To opt-in to the future behavior, set `pd.set_option('future.no_silent_downcasting', True)`\n",
            "  train_df.replace([np.inf, -np.inf], np.nan, inplace=True)\n"
          ]
        },
        {
          "metadata": {
            "tags": null
          },
          "name": "stdout",
          "output_type": "stream",
          "text": [
            " RMSE for put_iv_25100: 0.000002\n"
          ]
        },
        {
          "metadata": {
            "tags": null
          },
          "name": "stderr",
          "output_type": "stream",
          "text": [
            "/tmp/ipython-input-451387676.py:65: FutureWarning: Downcasting behavior in `replace` is deprecated and will be removed in a future version. To retain the old behavior, explicitly call `result.infer_objects(copy=False)`. To opt-in to the future behavior, set `pd.set_option('future.no_silent_downcasting', True)`\n",
            "  train_df.replace([np.inf, -np.inf], np.nan, inplace=True)\n"
          ]
        },
        {
          "metadata": {
            "tags": null
          },
          "name": "stdout",
          "output_type": "stream",
          "text": [
            " RMSE for put_iv_25200: 0.000003\n"
          ]
        },
        {
          "metadata": {
            "tags": null
          },
          "name": "stderr",
          "output_type": "stream",
          "text": [
            "/tmp/ipython-input-451387676.py:65: FutureWarning: Downcasting behavior in `replace` is deprecated and will be removed in a future version. To retain the old behavior, explicitly call `result.infer_objects(copy=False)`. To opt-in to the future behavior, set `pd.set_option('future.no_silent_downcasting', True)`\n",
            "  train_df.replace([np.inf, -np.inf], np.nan, inplace=True)\n"
          ]
        },
        {
          "metadata": {
            "tags": null
          },
          "name": "stdout",
          "output_type": "stream",
          "text": [
            " RMSE for put_iv_25300: 0.000010\n"
          ]
        },
        {
          "output_type": "stream",
          "name": "stderr",
          "text": [
            "/tmp/ipython-input-451387676.py:65: FutureWarning: Downcasting behavior in `replace` is deprecated and will be removed in a future version. To retain the old behavior, explicitly call `result.infer_objects(copy=False)`. To opt-in to the future behavior, set `pd.set_option('future.no_silent_downcasting', True)`\n",
            "  train_df.replace([np.inf, -np.inf], np.nan, inplace=True)\n"
          ]
        },
        {
          "output_type": "stream",
          "name": "stdout",
          "text": [
            " RMSE for put_iv_25400: 0.000013\n"
          ]
        },
        {
          "output_type": "stream",
          "name": "stderr",
          "text": [
            "/tmp/ipython-input-451387676.py:65: FutureWarning: Downcasting behavior in `replace` is deprecated and will be removed in a future version. To retain the old behavior, explicitly call `result.infer_objects(copy=False)`. To opt-in to the future behavior, set `pd.set_option('future.no_silent_downcasting', True)`\n",
            "  train_df.replace([np.inf, -np.inf], np.nan, inplace=True)\n"
          ]
        },
        {
          "output_type": "stream",
          "name": "stdout",
          "text": [
            " RMSE for put_iv_25500: 0.000009\n",
            "\n",
            " Average Validation RMSE: 0.00000378\n"
          ]
        }
      ],
      "source": [
        "import pandas as pd\n",
        "import numpy as np\n",
        "from xgboost import XGBRegressor\n",
        "from sklearn.model_selection import train_test_split\n",
        "from sklearn.metrics import mean_squared_error\n",
        "from scipy.stats import norm\n",
        "import joblib\n",
        "import os\n",
        "\n",
        "# === Step 1: Load Data ===\n",
        "train_data = pd.read_parquet(\"train_data.parquet\")\n",
        "test_data = pd.read_parquet(\"test_data.parquet\")\n",
        "df = pd.concat([train_data, test_data], ignore_index=True)\n",
        "\n",
        "# === Step 2: Extract Time Features ===\n",
        "def extract_time_features(df, timestamp_col='timestamp', market_open_time='09:15:00'):\n",
        "    df[timestamp_col] = pd.to_datetime(df[timestamp_col])\n",
        "    df['second'] = df[timestamp_col].dt.second\n",
        "    df['minute'] = df[timestamp_col].dt.minute\n",
        "    df['hour'] = df[timestamp_col].dt.hour\n",
        "    market_open = pd.to_datetime(df[timestamp_col].dt.date.astype(str) + f' {market_open_time}')\n",
        "    df['seconds_since_open'] = (df[timestamp_col] - market_open).dt.total_seconds()\n",
        "    df['seconds_in_day'] = df['hour'] * 3600 + df['minute'] * 60 + df['second']\n",
        "    max_seconds = 23400  # 6.5 trading hours\n",
        "    df['time_sin'] = np.sin(2 * np.pi * df['seconds_in_day'] / max_seconds)\n",
        "    df['time_cos'] = np.cos(2 * np.pi * df['seconds_in_day'] / max_seconds)\n",
        "    df.drop(columns=[timestamp_col], inplace=True)\n",
        "    return df\n",
        "\n",
        "df = extract_time_features(df)\n",
        "\n",
        "# === Step 3: Add Expiry Features ===\n",
        "if 'days_to_expiry' not in df.columns:\n",
        "    df['days_to_expiry'] = 5  # default fallback\n",
        "df['time_to_expiry'] = df['days_to_expiry'] / 365\n",
        "\n",
        "# === Step 4: BSM Greeks ===\n",
        "def compute_bsm_features(S, K, T, r, sigma):\n",
        "    try:\n",
        "        if sigma <= 0 or T <= 0:\n",
        "            return np.nan, np.nan, np.nan\n",
        "        d1 = (np.log(S / K) + (r + 0.5 * sigma**2) * T) / (sigma * np.sqrt(T))\n",
        "        d2 = d1 - sigma * np.sqrt(T)\n",
        "        delta = norm.cdf(d1)\n",
        "        vega = S * norm.pdf(d1) * np.sqrt(T)\n",
        "        gamma = norm.pdf(d1) / (S * sigma * np.sqrt(T))\n",
        "        return delta, vega, gamma\n",
        "    except:\n",
        "        return np.nan, np.nan, np.nan\n",
        "\n",
        "# === Step 5: Setup ===\n",
        "base_feature_cols = [f'X{i}' for i in range(42)] + [\n",
        "    'underlying', 'second', 'minute', 'hour',\n",
        "    'seconds_since_open', 'time_sin', 'time_cos'\n",
        "]\n",
        "risk_free_rate = 0.06\n",
        "iv_cols = [col for col in df.columns if col.startswith('call_iv_') or col.startswith('put_iv_')]\n",
        "nearby_iv_cols = ['call_iv_24400', 'call_iv_24600']\n",
        "rmses = []\n",
        "trained_models = {}\n",
        "\n",
        "# === Step 6: Data Cleaning ===\n",
        "def clean_training_data(df, target_iv, feature_cols, max_iv=5.0):\n",
        "    train_df = df[df[target_iv].notna()].copy()\n",
        "    train_df.replace([np.inf, -np.inf], np.nan, inplace=True)\n",
        "    train_df.dropna(subset=feature_cols + [target_iv], inplace=True)\n",
        "    train_df = train_df[(train_df[target_iv] > 0) & (train_df[target_iv] < max_iv)]\n",
        "    return train_df\n",
        "\n",
        "# === Step 7: Train Models ===\n",
        "os.makedirs(\"models\", exist_ok=True)\n",
        "\n",
        "for target_iv in iv_cols:\n",
        "    strike = int(target_iv.split('_')[-1])\n",
        "\n",
        "    # Compute Greeks using the target IV\n",
        "    df[['bsm_delta', 'bsm_vega', 'bsm_gamma']] = df.apply(\n",
        "        lambda row: compute_bsm_features(\n",
        "            S=row['underlying'],\n",
        "            K=strike,\n",
        "            T=row['time_to_expiry'],\n",
        "            r=risk_free_rate,\n",
        "            sigma=row[target_iv] if pd.notna(row[target_iv]) else 0.2\n",
        "        ),\n",
        "        axis=1, result_type='expand'\n",
        "    )\n",
        "\n",
        "    feature_cols = base_feature_cols + ['bsm_delta', 'bsm_vega', 'bsm_gamma']\n",
        "    for col in nearby_iv_cols:\n",
        "        if col != target_iv and col in df.columns:\n",
        "            feature_cols.append(col)\n",
        "\n",
        "    train_df = clean_training_data(df, target_iv, feature_cols)\n",
        "    if train_df.empty:\n",
        "        print(f\" Skipping {target_iv}: No valid training data.\")\n",
        "        continue\n",
        "\n",
        "    X = train_df[feature_cols]\n",
        "    y = train_df[target_iv]\n",
        "    X_tr, X_val, y_tr, y_val = train_test_split(X, y, test_size=0.2, random_state=42)\n",
        "\n",
        "    model = XGBRegressor(\n",
        "        n_estimators=200,\n",
        "        learning_rate=0.05,\n",
        "        max_depth=6,\n",
        "        tree_method='hist',\n",
        "        n_jobs=-1,\n",
        "        random_state=42\n",
        "    )\n",
        "    model.fit(X_tr, y_tr)\n",
        "    joblib.dump(model, f\"models/{target_iv}_model.pkl\")\n",
        "    trained_models[target_iv] = model\n",
        "\n",
        "    y_pred = model.predict(X_val)\n",
        "    rmse = mean_squared_error(y_val, y_pred)\n",
        "    rmses.append(rmse)\n",
        "    print(f\" RMSE for {target_iv}: {rmse:.6f}\")\n",
        "\n",
        "# === Step 8: Print Average RMSE ===\n",
        "if rmses:\n",
        "    print(f\"\\n Average Validation RMSE: {np.mean(rmses):.8f}\")\n",
        "else:\n",
        "    print(\" No models trained.\")\n",
        "\n"
      ]
    },
    {
      "cell_type": "code",
      "source": [
        "# === Step 9: Generate Submission with All Calls and Puts ===\n",
        "print(\"\\n Generating final submission...\")\n",
        "\n",
        "submission_preds = {}\n",
        "\n",
        "for target_iv, model in trained_models.items():\n",
        "    strike = int(target_iv.split('_')[-1])\n",
        "    prefix = 'call' if 'call' in target_iv else 'put'\n",
        "    colname = f\"{prefix}_{strike}\"\n",
        "\n",
        "    df[['bsm_delta', 'bsm_vega', 'bsm_gamma']] = df.apply(\n",
        "        lambda row: compute_bsm_features(\n",
        "            S=row['underlying'],\n",
        "            K=strike,\n",
        "            T=row['time_to_expiry'],\n",
        "            r=risk_free_rate,\n",
        "            sigma=row[target_iv] if pd.notna(row[target_iv]) else 0.2\n",
        "        ),\n",
        "        axis=1, result_type='expand'\n",
        "    )\n",
        "\n",
        "    feature_cols = base_feature_cols + ['bsm_delta', 'bsm_vega', 'bsm_gamma']\n",
        "    for extra_col in nearby_iv_cols:\n",
        "        if extra_col != target_iv and extra_col in df.columns:\n",
        "            feature_cols.append(extra_col)\n",
        "\n",
        "    X_pred = df[feature_cols].replace([np.inf, -np.inf], np.nan).fillna(0)\n",
        "    preds = model.predict(X_pred)\n",
        "    submission_preds[colname] = preds[:12065]\n",
        "\n",
        "# === Step 10: Format and Save ===\n",
        "submission_df = pd.DataFrame(submission_preds).iloc[:12065].copy()\n",
        "submission_df.index = np.arange(12065)\n",
        "\n",
        "call_cols = sorted([col for col in submission_df.columns if col.startswith(\"call_\")])\n",
        "put_cols = sorted([col for col in submission_df.columns if col.startswith(\"put_\")])\n",
        "submission_df = submission_df[call_cols + put_cols]\n",
        "\n",
        "submission_df.to_csv(\"final_submission_all_calls_puts.csv\", index=False)\n",
        "print(f\" Saved submission as final_submission_all_calls_puts.csv with shape {submission_df.shape}\")\n"
      ],
      "metadata": {
        "colab": {
          "base_uri": "https://localhost:8080/"
        },
        "id": "tulYbEZW0NeZ",
        "outputId": "4035cf00-6a38-4549-8411-18b5d146ca16"
      },
      "execution_count": 2,
      "outputs": [
        {
          "output_type": "stream",
          "name": "stdout",
          "text": [
            "\n",
            " Generating final submission...\n",
            " Saved submission as final_submission_all_calls_puts.csv with shape (12065, 62)\n"
          ]
        }
      ]
    },
    {
      "cell_type": "code",
      "source": [
        "import shutil\n",
        "\n",
        "shutil.move(\"final_submission_all_calls_puts.csv\", \"/content/final_submission_all_calls_puts.csv\")  # if using Google Colab\n",
        "\n",
        "from google.colab import files\n",
        "files.download(\"final_submission_all_calls_puts.csv\")\n"
      ],
      "metadata": {
        "id": "afPLSnsX0Rjw"
      },
      "execution_count": null,
      "outputs": []
    },
    {
      "cell_type": "code",
      "source": [
        "df = pd.read_csv('sample_submission.csv')\n",
        "df.shape"
      ],
      "metadata": {
        "id": "RBYQZ1xQ0ZSi"
      },
      "execution_count": null,
      "outputs": []
    },
    {
      "cell_type": "code",
      "source": [
        "df.head()"
      ],
      "metadata": {
        "id": "Ls36S9m_0cn0"
      },
      "execution_count": null,
      "outputs": []
    }
  ]
}